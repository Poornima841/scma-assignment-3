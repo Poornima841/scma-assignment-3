{
 "cells": [
  {
   "cell_type": "code",
   "execution_count": 42,
   "id": "5c1e1a24-c0ce-45d1-b800-00bf0d62b7bd",
   "metadata": {},
   "outputs": [],
   "source": [
    "import pandas as pd\n",
    "import statsmodels.api as sm\n",
    "from statsmodels.formula.api import probit\n",
    "\n",
    "# Load the data\n",
    "file_path = '/mnt/data/NSSO DATA/NSSO68.csv'\n",
    "df = pd.read_csv(file_path)\n",
    "\n",
    "# Display the first few rows of the dataset\n",
    "print(df.head())\n",
    "\n",
    "# Define the probit regression model\n",
    "# Assuming 'non_vegetarian' is the binary dependent variable\n",
    "probit_model = probit('non_vegetarian ~ age + gender + education', data=df).fit()\n",
    "print(probit_model.summary())\n",
    "\n",
    "# Define the tobit regression model\n",
    "# Assuming 'non_vegetarian' is the dependent variable\n",
    "df['non_vegetarian_cens'] = df['non_vegetarian'].clip(upper=1)\n",
    "tobit_model = sm.OLS(df['non_vegetarian_cens'], sm.add_constant(df[['age', 'gender', 'education']])).fit()\n",
    "print(tobit_model.summary())"
   ]
  }
 ],
 "metadata": {
  "kernelspec": {
   "display_name": "Python 3 (ipykernel)",
   "language": "python",
   "name": "python3"
  },
  "language_info": {
   "codemirror_mode": {
    "name": "ipython",
    "version": 3
   },
   "file_extension": ".py",
   "mimetype": "text/x-python",
   "name": "python",
   "nbconvert_exporter": "python",
   "pygments_lexer": "ipython3",
   "version": "3.11.7"
  }
 },
 "nbformat": 4,
 "nbformat_minor": 5
}
